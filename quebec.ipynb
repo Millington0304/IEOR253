{
 "cells": [
  {
   "cell_type": "code",
   "execution_count": 88,
   "metadata": {},
   "outputs": [],
   "source": [
    "import pandas as pd\n",
    "import numpy as np\n",
    "import matplotlib.pyplot as plt\n",
    "\n",
    "# load\n",
    "df=pd.read_csv('quebec.dat', sep='\\t')\n",
    "\n",
    "# create uid column - 'person_id'\n",
    "df['person_id'] = df.index"
   ]
  },
  {
   "cell_type": "code",
   "execution_count": 89,
   "metadata": {},
   "outputs": [
    {
     "data": {
      "text/plain": [
       "3090"
      ]
     },
     "execution_count": 89,
     "metadata": {},
     "output_type": "execute_result"
    }
   ],
   "source": [
    "len(df)"
   ]
  },
  {
   "cell_type": "code",
   "execution_count": 90,
   "metadata": {},
   "outputs": [],
   "source": [
    "# wide to long\n",
    "df_long = pd.wide_to_long(df, stubnames=[\"op_cost\", \"fix_cost\", \"cost_inc\", \"avail\"], i=\"person_id\", j=\"alt\")\n",
    "\n",
    "# print(len(df_long))\n",
    "# print(df_long.head())\n",
    "\n",
    "# reset index for clarity\n",
    "df_long = df_long.reset_index()\n",
    "\n",
    "# get y\n",
    "df_long[\"chosen\"] = (df_long[\"alt\"] == df_long[\"choice\"]).astype(int)\n",
    "\n",
    "# Retain only available alternatives\n",
    "df_long = df_long[df_long[\"avail\"] == 1]\n",
    "\n",
    "# print(len(df_long))\n"
   ]
  },
  {
   "cell_type": "code",
   "execution_count": 91,
   "metadata": {},
   "outputs": [],
   "source": [
    "#df_long.tail(20)"
   ]
  },
  {
   "cell_type": "code",
   "execution_count": 92,
   "metadata": {},
   "outputs": [],
   "source": [
    "import statsmodels.api as sm\n",
    "# create alternative-specific constants (ASCs)\n",
    "df_long = pd.get_dummies(df_long, columns=[\"alt\"], drop_first=True)\n"
   ]
  },
  {
   "cell_type": "code",
   "execution_count": 93,
   "metadata": {},
   "outputs": [
    {
     "name": "stdout",
     "output_type": "stream",
     "text": [
      "Optimization terminated successfully.\n",
      "         Current function value: 0.249702\n",
      "         Iterations 8\n"
     ]
    },
    {
     "data": {
      "text/html": [
       "<table class=\"simpletable\">\n",
       "<caption>MNLogit Regression Results</caption>\n",
       "<tr>\n",
       "  <th>Dep. Variable:</th>        <td>chosen</td>      <th>  No. Observations:  </th>  <td> 22798</td> \n",
       "</tr>\n",
       "<tr>\n",
       "  <th>Model:</th>                <td>MNLogit</td>     <th>  Df Residuals:      </th>  <td> 22794</td> \n",
       "</tr>\n",
       "<tr>\n",
       "  <th>Method:</th>                 <td>MLE</td>       <th>  Df Model:          </th>  <td>     3</td> \n",
       "</tr>\n",
       "<tr>\n",
       "  <th>Date:</th>            <td>Thu, 20 Mar 2025</td> <th>  Pseudo R-squ.:     </th>  <td>0.3707</td> \n",
       "</tr>\n",
       "<tr>\n",
       "  <th>Time:</th>                <td>13:03:59</td>     <th>  Log-Likelihood:    </th> <td> -5692.7</td>\n",
       "</tr>\n",
       "<tr>\n",
       "  <th>converged:</th>             <td>True</td>       <th>  LL-Null:           </th> <td> -9045.8</td>\n",
       "</tr>\n",
       "<tr>\n",
       "  <th>Covariance Type:</th>     <td>nonrobust</td>    <th>  LLR p-value:       </th>  <td> 0.000</td> \n",
       "</tr>\n",
       "</table>\n",
       "<table class=\"simpletable\">\n",
       "<tr>\n",
       "  <th>chosen=1</th>    <th>coef</th>     <th>std err</th>      <th>z</th>      <th>P>|z|</th>  <th>[0.025</th>    <th>0.975]</th>  \n",
       "</tr>\n",
       "<tr>\n",
       "  <th>const</th>    <td>    1.4913</td> <td>    0.089</td> <td>   16.825</td> <td> 0.000</td> <td>    1.318</td> <td>    1.665</td>\n",
       "</tr>\n",
       "<tr>\n",
       "  <th>op_cost</th>  <td>    0.4749</td> <td>    0.056</td> <td>    8.530</td> <td> 0.000</td> <td>    0.366</td> <td>    0.584</td>\n",
       "</tr>\n",
       "<tr>\n",
       "  <th>fix_cost</th> <td>   -6.6930</td> <td>    0.133</td> <td>  -50.463</td> <td> 0.000</td> <td>   -6.953</td> <td>   -6.433</td>\n",
       "</tr>\n",
       "<tr>\n",
       "  <th>cost_inc</th> <td>    0.0704</td> <td>    0.020</td> <td>    3.544</td> <td> 0.000</td> <td>    0.031</td> <td>    0.109</td>\n",
       "</tr>\n",
       "</table>"
      ],
      "text/latex": [
       "\\begin{center}\n",
       "\\begin{tabular}{lclc}\n",
       "\\toprule\n",
       "\\textbf{Dep. Variable:}   &      chosen      & \\textbf{  No. Observations:  } &    22798    \\\\\n",
       "\\textbf{Model:}           &     MNLogit      & \\textbf{  Df Residuals:      } &    22794    \\\\\n",
       "\\textbf{Method:}          &       MLE        & \\textbf{  Df Model:          } &        3    \\\\\n",
       "\\textbf{Date:}            & Thu, 20 Mar 2025 & \\textbf{  Pseudo R-squ.:     } &   0.3707    \\\\\n",
       "\\textbf{Time:}            &     13:03:59     & \\textbf{  Log-Likelihood:    } &   -5692.7   \\\\\n",
       "\\textbf{converged:}       &       True       & \\textbf{  LL-Null:           } &   -9045.8   \\\\\n",
       "\\textbf{Covariance Type:} &    nonrobust     & \\textbf{  LLR p-value:       } &    0.000    \\\\\n",
       "\\bottomrule\n",
       "\\end{tabular}\n",
       "\\begin{tabular}{ccccccc}\n",
       "\\textbf{chosen=1}  & \\textbf{coef} & \\textbf{std err} & \\textbf{z} & \\textbf{P$> |$z$|$} & \\textbf{[0.025} & \\textbf{0.975]}  \\\\\n",
       "\\midrule\n",
       "\\bottomrule\n",
       "\\end{tabular}\n",
       "\\begin{tabular}{lcccccc}\n",
       "\\textbf{const}     &       1.4913  &        0.089     &    16.825  &         0.000        &        1.318    &        1.665     \\\\\n",
       "\\textbf{op\\_cost}  &       0.4749  &        0.056     &     8.530  &         0.000        &        0.366    &        0.584     \\\\\n",
       "\\textbf{fix\\_cost} &      -6.6930  &        0.133     &   -50.463  &         0.000        &       -6.953    &       -6.433     \\\\\n",
       "\\textbf{cost\\_inc} &       0.0704  &        0.020     &     3.544  &         0.000        &        0.031    &        0.109     \\\\\n",
       "\\bottomrule\n",
       "\\end{tabular}\n",
       "%\\caption{MNLogit Regression Results}\n",
       "\\end{center}"
      ],
      "text/plain": [
       "<class 'statsmodels.iolib.summary.Summary'>\n",
       "\"\"\"\n",
       "                          MNLogit Regression Results                          \n",
       "==============================================================================\n",
       "Dep. Variable:                 chosen   No. Observations:                22798\n",
       "Model:                        MNLogit   Df Residuals:                    22794\n",
       "Method:                           MLE   Df Model:                            3\n",
       "Date:                Thu, 20 Mar 2025   Pseudo R-squ.:                  0.3707\n",
       "Time:                        13:03:59   Log-Likelihood:                -5692.7\n",
       "converged:                       True   LL-Null:                       -9045.8\n",
       "Covariance Type:            nonrobust   LLR p-value:                     0.000\n",
       "==============================================================================\n",
       "  chosen=1       coef    std err          z      P>|z|      [0.025      0.975]\n",
       "------------------------------------------------------------------------------\n",
       "const          1.4913      0.089     16.825      0.000       1.318       1.665\n",
       "op_cost        0.4749      0.056      8.530      0.000       0.366       0.584\n",
       "fix_cost      -6.6930      0.133    -50.463      0.000      -6.953      -6.433\n",
       "cost_inc       0.0704      0.020      3.544      0.000       0.031       0.109\n",
       "==============================================================================\n",
       "\"\"\""
      ]
     },
     "execution_count": 93,
     "metadata": {},
     "output_type": "execute_result"
    }
   ],
   "source": [
    "# design matrix w/: op_cost, fix_cost, cost_inc + const\n",
    "X_restricted = df_long[[\"op_cost\", \"fix_cost\", \"cost_inc\"]]\n",
    "X_restricted = sm.add_constant(X_restricted)  # Add intercept\n",
    "\n",
    "# fit\n",
    "model_restricted = sm.MNLogit(y, X_restricted)\n",
    "result_restricted = model_restricted.fit()\n",
    "\n",
    "result_restricted.summary()\n"
   ]
  },
  {
   "cell_type": "code",
   "execution_count": 94,
   "metadata": {},
   "outputs": [
    {
     "name": "stdout",
     "output_type": "stream",
     "text": [
      "Optimization terminated successfully.\n",
      "         Current function value: 0.249358\n",
      "         Iterations 8\n"
     ]
    },
    {
     "data": {
      "text/html": [
       "<table class=\"simpletable\">\n",
       "<caption>MNLogit Regression Results</caption>\n",
       "<tr>\n",
       "  <th>Dep. Variable:</th>        <td>chosen</td>      <th>  No. Observations:  </th>  <td> 22798</td> \n",
       "</tr>\n",
       "<tr>\n",
       "  <th>Model:</th>                <td>MNLogit</td>     <th>  Df Residuals:      </th>  <td> 22790</td> \n",
       "</tr>\n",
       "<tr>\n",
       "  <th>Method:</th>                 <td>MLE</td>       <th>  Df Model:          </th>  <td>     7</td> \n",
       "</tr>\n",
       "<tr>\n",
       "  <th>Date:</th>            <td>Thu, 20 Mar 2025</td> <th>  Pseudo R-squ.:     </th>  <td>0.3715</td> \n",
       "</tr>\n",
       "<tr>\n",
       "  <th>Time:</th>                <td>13:04:00</td>     <th>  Log-Likelihood:    </th> <td> -5684.9</td>\n",
       "</tr>\n",
       "<tr>\n",
       "  <th>converged:</th>             <td>True</td>       <th>  LL-Null:           </th> <td> -9045.8</td>\n",
       "</tr>\n",
       "<tr>\n",
       "  <th>Covariance Type:</th>     <td>nonrobust</td>    <th>  LLR p-value:       </th>  <td> 0.000</td> \n",
       "</tr>\n",
       "</table>\n",
       "<table class=\"simpletable\">\n",
       "<tr>\n",
       "  <th>chosen=1</th>    <th>coef</th>     <th>std err</th>      <th>z</th>      <th>P>|z|</th>  <th>[0.025</th>    <th>0.975]</th>  \n",
       "</tr>\n",
       "<tr>\n",
       "  <th>const</th>    <td>    1.7637</td> <td>    0.168</td> <td>   10.484</td> <td> 0.000</td> <td>    1.434</td> <td>    2.093</td>\n",
       "</tr>\n",
       "<tr>\n",
       "  <th>op_cost</th>  <td>    0.4135</td> <td>    0.070</td> <td>    5.868</td> <td> 0.000</td> <td>    0.275</td> <td>    0.552</td>\n",
       "</tr>\n",
       "<tr>\n",
       "  <th>fix_cost</th> <td>   -7.2911</td> <td>    0.222</td> <td>  -32.794</td> <td> 0.000</td> <td>   -7.727</td> <td>   -6.855</td>\n",
       "</tr>\n",
       "<tr>\n",
       "  <th>cost_inc</th> <td>    0.2094</td> <td>    0.045</td> <td>    4.613</td> <td> 0.000</td> <td>    0.120</td> <td>    0.298</td>\n",
       "</tr>\n",
       "<tr>\n",
       "  <th>nb_rooms</th> <td>    0.0132</td> <td>    0.017</td> <td>    0.783</td> <td> 0.433</td> <td>   -0.020</td> <td>    0.046</td>\n",
       "</tr>\n",
       "<tr>\n",
       "  <th>surface</th>  <td>    0.0517</td> <td>    0.038</td> <td>    1.351</td> <td> 0.177</td> <td>   -0.023</td> <td>    0.127</td>\n",
       "</tr>\n",
       "<tr>\n",
       "  <th>age</th>      <td>    0.0133</td> <td>    0.019</td> <td>    0.713</td> <td> 0.476</td> <td>   -0.023</td> <td>    0.050</td>\n",
       "</tr>\n",
       "<tr>\n",
       "  <th>income</th>   <td>   -0.0975</td> <td>    0.028</td> <td>   -3.512</td> <td> 0.000</td> <td>   -0.152</td> <td>   -0.043</td>\n",
       "</tr>\n",
       "</table>"
      ],
      "text/latex": [
       "\\begin{center}\n",
       "\\begin{tabular}{lclc}\n",
       "\\toprule\n",
       "\\textbf{Dep. Variable:}   &      chosen      & \\textbf{  No. Observations:  } &    22798    \\\\\n",
       "\\textbf{Model:}           &     MNLogit      & \\textbf{  Df Residuals:      } &    22790    \\\\\n",
       "\\textbf{Method:}          &       MLE        & \\textbf{  Df Model:          } &        7    \\\\\n",
       "\\textbf{Date:}            & Thu, 20 Mar 2025 & \\textbf{  Pseudo R-squ.:     } &   0.3715    \\\\\n",
       "\\textbf{Time:}            &     13:04:00     & \\textbf{  Log-Likelihood:    } &   -5684.9   \\\\\n",
       "\\textbf{converged:}       &       True       & \\textbf{  LL-Null:           } &   -9045.8   \\\\\n",
       "\\textbf{Covariance Type:} &    nonrobust     & \\textbf{  LLR p-value:       } &    0.000    \\\\\n",
       "\\bottomrule\n",
       "\\end{tabular}\n",
       "\\begin{tabular}{ccccccc}\n",
       "\\textbf{chosen=1}  & \\textbf{coef} & \\textbf{std err} & \\textbf{z} & \\textbf{P$> |$z$|$} & \\textbf{[0.025} & \\textbf{0.975]}  \\\\\n",
       "\\midrule\n",
       "\\bottomrule\n",
       "\\end{tabular}\n",
       "\\begin{tabular}{lcccccc}\n",
       "\\textbf{const}     &       1.7637  &        0.168     &    10.484  &         0.000        &        1.434    &        2.093     \\\\\n",
       "\\textbf{op\\_cost}  &       0.4135  &        0.070     &     5.868  &         0.000        &        0.275    &        0.552     \\\\\n",
       "\\textbf{fix\\_cost} &      -7.2911  &        0.222     &   -32.794  &         0.000        &       -7.727    &       -6.855     \\\\\n",
       "\\textbf{cost\\_inc} &       0.2094  &        0.045     &     4.613  &         0.000        &        0.120    &        0.298     \\\\\n",
       "\\textbf{nb\\_rooms} &       0.0132  &        0.017     &     0.783  &         0.433        &       -0.020    &        0.046     \\\\\n",
       "\\textbf{surface}   &       0.0517  &        0.038     &     1.351  &         0.177        &       -0.023    &        0.127     \\\\\n",
       "\\textbf{age}       &       0.0133  &        0.019     &     0.713  &         0.476        &       -0.023    &        0.050     \\\\\n",
       "\\textbf{income}    &      -0.0975  &        0.028     &    -3.512  &         0.000        &       -0.152    &       -0.043     \\\\\n",
       "\\bottomrule\n",
       "\\end{tabular}\n",
       "%\\caption{MNLogit Regression Results}\n",
       "\\end{center}"
      ],
      "text/plain": [
       "<class 'statsmodels.iolib.summary.Summary'>\n",
       "\"\"\"\n",
       "                          MNLogit Regression Results                          \n",
       "==============================================================================\n",
       "Dep. Variable:                 chosen   No. Observations:                22798\n",
       "Model:                        MNLogit   Df Residuals:                    22790\n",
       "Method:                           MLE   Df Model:                            7\n",
       "Date:                Thu, 20 Mar 2025   Pseudo R-squ.:                  0.3715\n",
       "Time:                        13:04:00   Log-Likelihood:                -5684.9\n",
       "converged:                       True   LL-Null:                       -9045.8\n",
       "Covariance Type:            nonrobust   LLR p-value:                     0.000\n",
       "==============================================================================\n",
       "  chosen=1       coef    std err          z      P>|z|      [0.025      0.975]\n",
       "------------------------------------------------------------------------------\n",
       "const          1.7637      0.168     10.484      0.000       1.434       2.093\n",
       "op_cost        0.4135      0.070      5.868      0.000       0.275       0.552\n",
       "fix_cost      -7.2911      0.222    -32.794      0.000      -7.727      -6.855\n",
       "cost_inc       0.2094      0.045      4.613      0.000       0.120       0.298\n",
       "nb_rooms       0.0132      0.017      0.783      0.433      -0.020       0.046\n",
       "surface        0.0517      0.038      1.351      0.177      -0.023       0.127\n",
       "age            0.0133      0.019      0.713      0.476      -0.023       0.050\n",
       "income        -0.0975      0.028     -3.512      0.000      -0.152      -0.043\n",
       "==============================================================================\n",
       "\"\"\""
      ]
     },
     "execution_count": 94,
     "metadata": {},
     "output_type": "execute_result"
    }
   ],
   "source": [
    "X_unrestricted = df_long[[\"op_cost\", \"fix_cost\", \"cost_inc\", \"nb_rooms\", \"surface\", \"age\", \"income\"]]\n",
    "X_unrestricted = sm.add_constant(X_unrestricted)\n",
    "\n",
    "# fit\n",
    "model_unrestricted = sm.MNLogit(y, X_unrestricted)\n",
    "result_unrestricted = model_unrestricted.fit()\n",
    "\n",
    "result_unrestricted.summary()"
   ]
  },
  {
   "cell_type": "code",
   "execution_count": 95,
   "metadata": {},
   "outputs": [
    {
     "data": {
      "text/plain": [
       "(15.672367976550959, 4, 0.0034918315522377563)"
      ]
     },
     "execution_count": 95,
     "metadata": {},
     "output_type": "execute_result"
    }
   ],
   "source": [
    "import scipy.stats as stats\n",
    "\n",
    "# get llf\n",
    "LL_restricted = result_restricted.llf\n",
    "LL_unrestricted = result_unrestricted.llf\n",
    "\n",
    "LR_stat = -2 * (LL_restricted - LL_unrestricted)\n",
    "\n",
    "# get the degrees of freedom\n",
    "df_restricted = X_restricted.shape[1] \n",
    "df_unrestricted = X_unrestricted.shape[1]\n",
    "df_diff = df_unrestricted - df_restricted  # diff in deg of freedom\n",
    "\n",
    "# get p value\n",
    "p_value = 1 - stats.chi2.cdf(LR_stat, df_diff)\n",
    "\n",
    "# Display results\n",
    "LR_stat, df_diff, p_value\n"
   ]
  },
  {
   "cell_type": "markdown",
   "metadata": {},
   "source": [
    "With p<0.05 as the given significance level, the null hypothesis should be rejected,\\\n",
    "concluding that the demographic variables significantly improves the model fit."
   ]
  }
 ],
 "metadata": {
  "kernelspec": {
   "display_name": "Python 3",
   "language": "python",
   "name": "python3"
  },
  "language_info": {
   "codemirror_mode": {
    "name": "ipython",
    "version": 3
   },
   "file_extension": ".py",
   "mimetype": "text/x-python",
   "name": "python",
   "nbconvert_exporter": "python",
   "pygments_lexer": "ipython3",
   "version": "3.12.9"
  }
 },
 "nbformat": 4,
 "nbformat_minor": 2
}
