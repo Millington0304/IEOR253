{
 "cells": [
  {
   "cell_type": "code",
   "execution_count": null,
   "metadata": {},
   "outputs": [],
   "source": [
    "import numpy as np\n",
    "import networkx as nx\n",
    "\n",
    "nodes = [1, 2, 3, 4, 5]\n",
    "edges = {\n",
    "    (1, 2): 2, (1, 4): 5, (1, 5): 2,\n",
    "    (2, 3): 1, (2, 4): 1, (2, 5): 1,\n",
    "    (3, 4): 100, (4, 5): 1\n",
    "}\n",
    "\n",
    "G = nx.Graph()\n",
    "for (i, j), cost in edges.items():\n",
    "    G.add_edge(i, j, weight=cost)\n",
    "\n",
    "nodes_excluding_1 = [n for n in nodes if n != 1]"
   ]
  },
  {
   "cell_type": "code",
   "execution_count": null,
   "metadata": {},
   "outputs": [
    {
     "data": {
      "text/plain": [
       "65.83394932481563"
      ]
     },
     "execution_count": 6,
     "metadata": {},
     "output_type": "execute_result"
    }
   ],
   "source": [
    "import scipy.optimize\n",
    "\n",
    "# init Lagrange multipliers (node penalties)=0\n",
    "node_penalties = {node: 0 for node in nodes}\n",
    "\n",
    "#find 1-tree cost for given lambda\n",
    "def compute_lagrangian_1_tree(penalties):\n",
    "    # adj edge weights w/ penalties\n",
    "    adjusted_graph = nx.Graph()\n",
    "    for (u, v, data) in G.edges(data=True):\n",
    "        adjusted_weight = data['weight'] + penalties[u-1] + penalties[v-1]s\n",
    "        adjusted_graph.add_edge(u, v, weight=adjusted_weight)\n",
    "\n",
    "    # find mst for N-{1}\n",
    "    subgraph = adjusted_graph.subgraph(nodes_excluding_1)\n",
    "    mst = nx.minimum_spanning_tree(subgraph, weight='weight')\n",
    "\n",
    "    #add two edges to node 1\n",
    "    edges_connected_to_1 = sorted([(1, j, adjusted_graph[1][j]['weight']) for j in G[1]], key=lambda x: x[2])\n",
    "    one_tree_edges = list(mst.edges(data=True)) + [\n",
    "        (edges_connected_to_1[0][0], edges_connected_to_1[0][1], {'weight': edges_connected_to_1[0][2]}),\n",
    "        (edges_connected_to_1[1][0], edges_connected_to_1[1][1], {'weight': edges_connected_to_1[1][2]})\n",
    "    ]\n",
    "\n",
    "    #total adjusted 1-tree cost\n",
    "    one_tree_cost = sum(edge[2]['weight'] for edge in one_tree_edges)\n",
    "\n",
    "    # add neg penalty effects to get true cost\n",
    "    total_penalty_adjustment = 2 * sum(penalties)  # each node will appears in two edges\n",
    "    true_cost = one_tree_cost - total_penalty_adjustment\n",
    "\n",
    "    return -true_cost  #negate for minimization\n",
    "\n",
    "#optimize lambdas using gradient-free optimization\n",
    "result = scipy.optimize.minimize(\n",
    "    fun=compute_lagrangian_1_tree,\n",
    "    x0=np.zeros(len(nodes)),\n",
    "    method='Nelder-Mead'\n",
    ")\n",
    "\n",
    "#run\n",
    "optimal_penalties = result.x\n",
    "best_held_karp_bound = -compute_lagrangian_1_tree(optimal_penalties)\n",
    "\n",
    "best_held_karp_bound\n"
   ]
  }
 ],
 "metadata": {
  "kernelspec": {
   "display_name": "Python 3",
   "language": "python",
   "name": "python3"
  },
  "language_info": {
   "codemirror_mode": {
    "name": "ipython",
    "version": 3
   },
   "file_extension": ".py",
   "mimetype": "text/x-python",
   "name": "python",
   "nbconvert_exporter": "python",
   "pygments_lexer": "ipython3",
   "version": "3.12.9"
  }
 },
 "nbformat": 4,
 "nbformat_minor": 2
}
